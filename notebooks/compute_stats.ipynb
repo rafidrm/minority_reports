{
 "cells": [
  {
   "cell_type": "code",
   "execution_count": 1,
   "id": "138d2431",
   "metadata": {},
   "outputs": [],
   "source": [
    "import os\n",
    "import math\n",
    "\n",
    "import numpy as np\n",
    "import pandas as pd\n",
    "\n",
    "import matplotlib.pyplot as plt\n",
    "import seaborn as sns\n",
    "\n",
    "import matplotlib as mpl\n",
    "mpl.rcParams['figure.dpi'] = 128"
   ]
  },
  {
   "cell_type": "code",
   "execution_count": 2,
   "id": "1b683edd",
   "metadata": {},
   "outputs": [],
   "source": [
    "base_dir = \"data\"\n",
    "\n",
    "def filename(what: str) -> str:\n",
    "    return os.path.join(base_dir, f\"{what}.csv\")"
   ]
  },
  {
   "cell_type": "code",
   "execution_count": 3,
   "id": "3799a972",
   "metadata": {},
   "outputs": [],
   "source": [
    "df_boxes = pd.read_csv(filename(\"boxes\"))\n",
    "df_answers = pd.read_csv(filename(\"answers\"))"
   ]
  },
  {
   "cell_type": "markdown",
   "id": "0a4d95e3",
   "metadata": {},
   "source": [
    "## Descriptive Statistics"
   ]
  },
  {
   "cell_type": "code",
   "execution_count": 4,
   "id": "21822a19",
   "metadata": {},
   "outputs": [
    {
     "data": {
      "text/plain": [
       "6"
      ]
     },
     "execution_count": 4,
     "metadata": {},
     "output_type": "execute_result"
    }
   ],
   "source": [
    "# How many attributes question?\n",
    "questions = df_answers.question.unique()\n",
    "len(questions)"
   ]
  },
  {
   "cell_type": "code",
   "execution_count": 5,
   "id": "57cb9cc0",
   "metadata": {},
   "outputs": [
    {
     "data": {
      "text/plain": [
       "['statue/ mannequin',\n",
       " 'reflection of a person',\n",
       " 'human being',\n",
       " 'on wheels',\n",
       " 'on poster/picture/billboard',\n",
       " 'on a bike']"
      ]
     },
     "execution_count": 5,
     "metadata": {},
     "output_type": "execute_result"
    }
   ],
   "source": [
    "list(questions)"
   ]
  },
  {
   "cell_type": "code",
   "execution_count": 6,
   "id": "a29f3fcb",
   "metadata": {},
   "outputs": [
    {
     "data": {
      "text/plain": [
       "94"
      ]
     },
     "execution_count": 6,
     "metadata": {},
     "output_type": "execute_result"
    }
   ],
   "source": [
    "# How many unique annotators?\n",
    "df_answers.user_id.nunique()"
   ]
  },
  {
   "cell_type": "code",
   "execution_count": 7,
   "id": "79bd826e",
   "metadata": {},
   "outputs": [
    {
     "data": {
      "text/plain": [
       "32711"
      ]
     },
     "execution_count": 7,
     "metadata": {},
     "output_type": "execute_result"
    }
   ],
   "source": [
    "# How many image objects?\n",
    "df_answers.crop_id.nunique()"
   ]
  },
  {
   "cell_type": "code",
   "execution_count": 8,
   "id": "506b1e5d",
   "metadata": {},
   "outputs": [
    {
     "data": {
      "text/plain": [
       "1022156"
      ]
     },
     "execution_count": 8,
     "metadata": {},
     "output_type": "execute_result"
    }
   ],
   "source": [
    "# Overall number of answers\n",
    "df_answers.answer.count()"
   ]
  },
  {
   "cell_type": "code",
   "execution_count": 9,
   "id": "590f1c0b",
   "metadata": {},
   "outputs": [
    {
     "data": {
      "text/plain": [
       "question\n",
       "human being                    179727\n",
       "on a bike                      173339\n",
       "on poster/picture/billboard    164239\n",
       "on wheels                      172855\n",
       "reflection of a person         164688\n",
       "statue/ mannequin              167308\n",
       "Name: answer, dtype: int64"
      ]
     },
     "execution_count": 9,
     "metadata": {},
     "output_type": "execute_result"
    }
   ],
   "source": [
    "# Overall number of answers provided per question\n",
    "df_answers.groupby(by=\"question\").answer.count()"
   ]
  },
  {
   "cell_type": "code",
   "execution_count": 10,
   "id": "b7ed8e9b",
   "metadata": {},
   "outputs": [
    {
     "data": {
      "text/html": [
       "<div>\n",
       "<style scoped>\n",
       "    .dataframe tbody tr th:only-of-type {\n",
       "        vertical-align: middle;\n",
       "    }\n",
       "\n",
       "    .dataframe tbody tr th {\n",
       "        vertical-align: top;\n",
       "    }\n",
       "\n",
       "    .dataframe thead th {\n",
       "        text-align: right;\n",
       "    }\n",
       "</style>\n",
       "<table border=\"1\" class=\"dataframe\">\n",
       "  <thead>\n",
       "    <tr style=\"text-align: right;\">\n",
       "      <th></th>\n",
       "      <th>repeats</th>\n",
       "      <th>count</th>\n",
       "    </tr>\n",
       "  </thead>\n",
       "  <tbody>\n",
       "    <tr>\n",
       "      <th>8</th>\n",
       "      <td>1</td>\n",
       "      <td>3</td>\n",
       "    </tr>\n",
       "    <tr>\n",
       "      <th>7</th>\n",
       "      <td>4</td>\n",
       "      <td>5</td>\n",
       "    </tr>\n",
       "    <tr>\n",
       "      <th>0</th>\n",
       "      <td>5</td>\n",
       "      <td>178229</td>\n",
       "    </tr>\n",
       "    <tr>\n",
       "      <th>1</th>\n",
       "      <td>6</td>\n",
       "      <td>10480</td>\n",
       "    </tr>\n",
       "    <tr>\n",
       "      <th>5</th>\n",
       "      <td>7</td>\n",
       "      <td>680</td>\n",
       "    </tr>\n",
       "    <tr>\n",
       "      <th>4</th>\n",
       "      <td>8</td>\n",
       "      <td>1493</td>\n",
       "    </tr>\n",
       "    <tr>\n",
       "      <th>3</th>\n",
       "      <td>9</td>\n",
       "      <td>2378</td>\n",
       "    </tr>\n",
       "    <tr>\n",
       "      <th>2</th>\n",
       "      <td>10</td>\n",
       "      <td>2976</td>\n",
       "    </tr>\n",
       "    <tr>\n",
       "      <th>6</th>\n",
       "      <td>11</td>\n",
       "      <td>22</td>\n",
       "    </tr>\n",
       "  </tbody>\n",
       "</table>\n",
       "</div>"
      ],
      "text/plain": [
       "   repeats   count\n",
       "8        1       3\n",
       "7        4       5\n",
       "0        5  178229\n",
       "1        6   10480\n",
       "5        7     680\n",
       "4        8    1493\n",
       "3        9    2378\n",
       "2       10    2976\n",
       "6       11      22"
      ]
     },
     "execution_count": 10,
     "metadata": {},
     "output_type": "execute_result"
    }
   ],
   "source": [
    "# Distribution of number of repeats per task\n",
    "(\n",
    "    df_answers\n",
    "    .groupby(by=[\"question\", \"crop_id\"])\n",
    "    .answer\n",
    "    .count()\n",
    "    .value_counts()\n",
    "    .to_frame()\n",
    "    .reset_index()\n",
    "    .rename(columns={\"index\": \"repeats\", \"answer\": \"count\"})\n",
    "    .sort_values(by=\"repeats\")\n",
    ")"
   ]
  },
  {
   "cell_type": "code",
   "execution_count": 11,
   "id": "cc071d2b",
   "metadata": {},
   "outputs": [],
   "source": [
    "# Number of solved tasks per worker\n",
    "answers_per_rater = (\n",
    "    df_answers\n",
    "    .groupby(by=\"user_id\")\n",
    "    .answer\n",
    "    .count()\n",
    "    .to_frame()\n",
    "    .rename(columns={\n",
    "        \"answer\": \"answers_per_rater\"\n",
    "    })\n",
    ")\n",
    "\n",
    "num = answers_per_rater.answers_per_rater.to_numpy()\n",
    "thresholds = np.exp(np.linspace(0, math.log(5e4), num=20)).astype(int)\n",
    "exceeds = (\n",
    "    thresholds.reshape(-1, 1)\n",
    "    <= num.reshape(1, -1)\n",
    ")\n",
    "num_exceeds = exceeds.sum(axis=-1)"
   ]
  },
  {
   "cell_type": "code",
   "execution_count": 12,
   "id": "2363d54d",
   "metadata": {},
   "outputs": [
    {
     "data": {
      "image/png": "[encoded data removed]",
      "text/plain": [
       "<Figure size 768x512 with 1 Axes>"
      ]
     },
     "metadata": {
      "needs_background": "light"
     },
     "output_type": "display_data"
    }
   ],
   "source": [
    "fig, ax = plt.subplots()\n",
    "ax.plot(thresholds, num_exceeds)\n",
    "ax.set_xscale(\"log\")\n",
    "ax.grid(True)\n",
    "\n",
    "ax.set_xlabel(\"$k$\")\n",
    "ax.set_ylabel(\"No. of raters\")\n",
    "\n",
    "ax.set_title(\"No. of raters that provide at least $k$ answers\")\n",
    "\n",
    "fig.savefig(\"num_tasks_per_rater.png\", bbox_inches=\"tight\")\n",
    "\n",
    "plt.show()"
   ]
  },
  {
   "cell_type": "code",
   "execution_count": 13,
   "id": "9b504177",
   "metadata": {},
   "outputs": [
    {
     "data": {
      "text/plain": [
       "{10: 92, 100: 88, 1000: 77, 10000: 30}"
      ]
     },
     "execution_count": 13,
     "metadata": {},
     "output_type": "execute_result"
    }
   ],
   "source": [
    "# Especially, the 10, 100, 1000, 10,000 benchmarks\n",
    "thresholds = [10, 100, 1000, 10_000]\n",
    "exceeds = (\n",
    "    np.array(thresholds).reshape(-1, 1)\n",
    "    <= num.reshape(1, -1)\n",
    ")\n",
    "num_exceeds = exceeds.sum(axis=-1)\n",
    "dict(zip(thresholds, num_exceeds))"
   ]
  }
 ],
 "metadata": {
  "kernelspec": {
   "display_name": "Python 3 (ipykernel)",
   "language": "python",
   "name": "python3"
  },
  "language_info": {
   "codemirror_mode": {
    "name": "ipython",
    "version": 3
   },
   "file_extension": ".py",
   "mimetype": "text/x-python",
   "name": "python",
   "nbconvert_exporter": "python",
   "pygments_lexer": "ipython3",
   "version": "3.9.6"
  }
 },
 "nbformat": 4,
 "nbformat_minor": 5
}
